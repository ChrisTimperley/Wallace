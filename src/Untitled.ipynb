{
 "cells": [
  {
   "cell_type": "code",
   "execution_count": 1,
   "metadata": {
    "collapsed": false
   },
   "outputs": [
    {
     "name": "stderr",
     "output_type": "stream",
     "text": [
      "\n",
      "WARNING: deprecated syntax \"{}\" at /home/chris/.julia/v0.4/Pandas/src/Pandas.jl:22.\n",
      "Use \"[]\" instead.\n"
     ]
    },
    {
     "ename": "LoadError",
     "evalue": "LoadError: LoadError: PyError (:PyImport_ImportModule) <type 'exceptions.ImportError'>\nImportError('No module named pandas',)\n\nwhile loading /home/chris/.julia/v0.4/Pandas/src/Pandas.jl, in expression starting on line 20\nwhile loading In[1], in expression starting on line 1",
     "output_type": "error",
     "traceback": [
      "LoadError: LoadError: PyError (:PyImport_ImportModule) <type 'exceptions.ImportError'>\nImportError('No module named pandas',)\n\nwhile loading /home/chris/.julia/v0.4/Pandas/src/Pandas.jl, in expression starting on line 20\nwhile loading In[1], in expression starting on line 1",
      "",
      " [inlined code] from /home/chris/.julia/v0.4/PyCall/src/exception.jl:81",
      " in pyimport at /home/chris/.julia/v0.4/PyCall/src/PyCall.jl:79",
      " in include at ./boot.jl:261",
      " in include_from_node1 at ./loading.jl:304",
      " in require at ./loading.jl:243"
     ]
    }
   ],
   "source": [
    "using Pandas"
   ]
  },
  {
   "cell_type": "code",
   "execution_count": 3,
   "metadata": {
    "collapsed": false
   },
   "outputs": [
    {
     "name": "stderr",
     "output_type": "stream",
     "text": [
      "INFO: Nothing to be done\n"
     ]
    }
   ],
   "source": [
    "Pkg.rm(\"Pandas\")"
   ]
  },
  {
   "cell_type": "code",
   "execution_count": 4,
   "metadata": {
    "collapsed": false
   },
   "outputs": [
    {
     "name": "stderr",
     "output_type": "stream",
     "text": [
      "INFO: Nothing to be done\n"
     ]
    }
   ],
   "source": [
    "Pkg.rm(\"Pandas\")"
   ]
  },
  {
   "cell_type": "code",
   "execution_count": 5,
   "metadata": {
    "collapsed": false
   },
   "outputs": [
    {
     "name": "stderr",
     "output_type": "stream",
     "text": [
      "INFO: Installing Pandas v0.2.0\n",
      "INFO: Building PyCall\n"
     ]
    },
    {
     "name": "stdout",
     "output_type": "stream",
     "text": [
      "Fetching package metadata: ....\n",
      "Solving package specifications: ...................\n",
      "# All requested packages already installed.\n",
      "# packages in environment at /home/chris/.julia/v0.4/Conda/deps/usr:\n",
      "#\n",
      "numpy                     1.10.1                   py27_0    defaults\n"
     ]
    },
    {
     "name": "stderr",
     "output_type": "stream",
     "text": [
      "INFO: PyCall is using /home/chris/.julia/v0.4/Conda/deps/usr/bin/python (Python 2.7.10) at /home/chris/.julia/v0.4/Conda/deps/usr/bin/python, libpython = /home/chris/.julia/v0.4/Conda/deps/usr/lib/libpython2.7.so\n",
      "INFO: Package database updated\n",
      "INFO: METADATA might be out-of-date — you may not have the latest version of Pandas\n",
      "INFO: Use `Pkg.update()` to get the latest versions of your packages\n"
     ]
    }
   ],
   "source": [
    "Pkg.add(\"Pandas\")"
   ]
  },
  {
   "cell_type": "code",
   "execution_count": null,
   "metadata": {
    "collapsed": true
   },
   "outputs": [],
   "source": []
  }
 ],
 "metadata": {
  "kernelspec": {
   "display_name": "Julia 0.4.0",
   "language": "julia",
   "name": "julia-0.4"
  },
  "language_info": {
   "file_extension": ".jl",
   "mimetype": "application/julia",
   "name": "julia",
   "version": "0.4.0"
  }
 },
 "nbformat": 4,
 "nbformat_minor": 0
}
