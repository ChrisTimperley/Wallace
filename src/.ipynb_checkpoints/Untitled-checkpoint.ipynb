{
 "cells": [
  {
   "cell_type": "code",
   "execution_count": 1,
   "metadata": {
    "collapsed": false
   },
   "outputs": [
    {
     "name": "stderr",
     "output_type": "stream",
     "text": [
      "WARNING: `require` is deprecated, use `using` or `import` instead\n",
      " in depwarn at deprecated.jl:73\n",
      " [inlined code] from deprecated.jl:694\n",
      " in require at no file:0\n",
      " in include_string at loading.jl:266\n",
      " in execute_request_0x535c5df2 at /home/chris/.julia/v0.4/IJulia/src/execute_request.jl:177\n",
      " in eventloop at /home/chris/.julia/v0.4/IJulia/src/IJulia.jl:141\n",
      " in anonymous at task.jl:447\n",
      "while loading In[1], in expression starting on line 1\n",
      "INFO: Recompiling stale cache file /home/chris/.julia/lib/v0.4/ArrayViews.ji for module ArrayViews.\n",
      "INFO: Recompiling stale cache file /home/chris/.julia/lib/v0.4/StatsBase.ji for module StatsBase.\n",
      "INFO: Recompiling stale cache file /home/chris/.julia/lib/v0.4/StatsFuns.ji for module StatsFuns.\n"
     ]
    }
   ],
   "source": [
    "require(\"Wallace.jl\")"
   ]
  },
  {
   "cell_type": "code",
   "execution_count": 2,
   "metadata": {
    "collapsed": true
   },
   "outputs": [],
   "source": [
    "using Wallace"
   ]
  },
  {
   "cell_type": "code",
   "execution_count": 3,
   "metadata": {
    "collapsed": false
   },
   "outputs": [
    {
     "name": "stderr",
     "output_type": "stream",
     "text": [
      "INFO: Cloning cache of ColorTypes from git://github.com/JuliaGraphics/ColorTypes.jl.git\n",
      "INFO: Cloning cache of Colors from git://github.com/JuliaGraphics/Colors.jl.git\n",
      "INFO: Updating cache of FixedPointNumbers...\n",
      "INFO: Cloning cache of LaTeXStrings from git://github.com/stevengj/LaTeXStrings.jl.git\n",
      "INFO: Cloning cache of PyCall from git://github.com/stevengj/PyCall.jl.git\n",
      "INFO: Cloning cache of PyPlot from git://github.com/stevengj/PyPlot.jl.git\n",
      "INFO: Updating cache of Reexport...\n",
      "INFO: Installing ColorTypes v0.2.0\n",
      "INFO: Installing Colors v0.6.0\n",
      "INFO: Installing Dates v0.4.4\n",
      "INFO: Installing FixedPointNumbers v0.1.1\n",
      "INFO: Installing LaTeXStrings v0.1.6\n",
      "INFO: Installing PyCall v1.2.0\n",
      "INFO: Installing PyPlot v2.1.1\n",
      "INFO: Installing Reexport v0.0.3\n",
      "INFO: Building PyCall\n",
      "INFO: PyCall is using python (Python 2.7.9) at /usr/bin/python, libpython = libpython2.7\n",
      "INFO: Package database updated\n"
     ]
    }
   ],
   "source": [
    "Pkg.add(\"PyPlot\")"
   ]
  },
  {
   "cell_type": "code",
   "execution_count": 4,
   "metadata": {
    "collapsed": false
   },
   "outputs": [
    {
     "name": "stderr",
     "output_type": "stream",
     "text": [
      "INFO: Precompiling module PyPlot...\n"
     ]
    },
    {
     "ename": "LoadError",
     "evalue": "LoadError: InitError: Failed to pyimport(\"matplotlib\"): PyPlot will not work until you have a functioning matplotlib module.\n\nFor automated Matplotlib installation, try configuring PyCall to use the Conda Python distribution within Julia.  Relaunch Julia and run:\n      ENV[\"PYTHON\"]=\"\"\n      Pkg.build(\"PyCall\")\n      using PyPlot\n\npyimport exception was: PyError (:PyImport_ImportModule) <type 'exceptions.ImportError'>\nImportError('No module named matplotlib',)\n\nduring initialization of module PyPlot\nwhile loading In[4], in expression starting on line 1",
     "output_type": "error",
     "traceback": [
      "LoadError: InitError: Failed to pyimport(\"matplotlib\"): PyPlot will not work until you have a functioning matplotlib module.\n\nFor automated Matplotlib installation, try configuring PyCall to use the Conda Python distribution within Julia.  Relaunch Julia and run:\n      ENV[\"PYTHON\"]=\"\"\n      Pkg.build(\"PyCall\")\n      using PyPlot\n\npyimport exception was: PyError (:PyImport_ImportModule) <type 'exceptions.ImportError'>\nImportError('No module named matplotlib',)\n\nduring initialization of module PyPlot\nwhile loading In[4], in expression starting on line 1",
      "",
      " in __init__ at /home/chris/.julia/v0.4/PyPlot/src/PyPlot.jl:229",
      " in _require_from_serialized at loading.jl:84",
      " in require at ./loading.jl:251"
     ]
    }
   ],
   "source": [
    "using PyPlot"
   ]
  },
  {
   "cell_type": "code",
   "execution_count": 5,
   "metadata": {
    "collapsed": false
   },
   "outputs": [
    {
     "data": {
      "text/plain": [
       "\"\""
      ]
     },
     "execution_count": 5,
     "metadata": {},
     "output_type": "execute_result"
    }
   ],
   "source": [
    "ENV[\"PYTHON\"]=\"\""
   ]
  },
  {
   "cell_type": "code",
   "execution_count": 6,
   "metadata": {
    "collapsed": false
   },
   "outputs": [
    {
     "name": "stderr",
     "output_type": "stream",
     "text": [
      "INFO: Building PyCall\n",
      "INFO: No system-wide Python was found; got the following error:\n",
      "could not spawn `'' -c \"import distutils.sysconfig; print(distutils.sysconfig.get_config_var('VERSION'))\"`: no such file or directory (ENOENT)\n",
      "using the Python distribution in the Conda package\n"
     ]
    },
    {
     "name": "stdout",
     "output_type": "stream",
     "text": [
      "Fetching package metadata: ....\n",
      "Solving package specifications: ...................\n",
      "Package plan for installation in environment /home/chris/.julia/v0.4/Conda/deps/usr:\n",
      "\n",
      "The following packages will be downloaded:\n",
      "\n",
      "    package                    |            build\n",
      "    ---------------------------|-----------------\n",
      "    libgfortran-1.0            |                0         170 KB  defaults\n",
      "    openblas-0.2.14            |                3         3.5 MB  defaults\n",
      "    numpy-1.10.1               |           py27_0         5.9 MB  defaults\n",
      "    ------------------------------------------------------------\n",
      "                                           Total:         9.5 MB\n",
      "\n",
      "The following NEW packages will be INSTALLED:\n",
      "\n",
      "    libgfortran: 1.0-0         defaults\n",
      "    numpy:       1.10.1-py27_0 defaults\n",
      "    openblas:    0.2.14-3      defaults\n",
      "\n",
      "Fetching packages ...\n",
      "libgfortran-1. 100% |###############################| Time: 0:00:00 310.59 kB/s\n",
      "openblas-0.2.1 100% |###############################| Time: 0:00:02   1.67 MB/s\n",
      "numpy-1.10.1-p 100% |###############################| Time: 0:00:04   1.51 MB/s\n",
      "Extracting packages ...\n",
      "[      COMPLETE      ]|##################################################| 100%\n",
      "Linking packages ...\n",
      "[      COMPLETE      ]|##################################################| 100%\n"
     ]
    },
    {
     "name": "stderr",
     "output_type": "stream",
     "text": [
      "INFO: PyCall is using /home/chris/.julia/v0.4/Conda/deps/usr/bin/python (Python 2.7.10) at /home/chris/.julia/v0.4/Conda/deps/usr/bin/python, libpython = /home/chris/.julia/v0.4/Conda/deps/usr/lib/libpython2.7.so\n"
     ]
    }
   ],
   "source": [
    "Pkg.build(\"PyCall\")"
   ]
  },
  {
   "cell_type": "code",
   "execution_count": null,
   "metadata": {
    "collapsed": true
   },
   "outputs": [],
   "source": []
  }
 ],
 "metadata": {
  "kernelspec": {
   "display_name": "Julia 0.4.0",
   "language": "julia",
   "name": "julia-0.4"
  },
  "language_info": {
   "file_extension": ".jl",
   "mimetype": "application/julia",
   "name": "julia",
   "version": "0.4.0"
  }
 },
 "nbformat": 4,
 "nbformat_minor": 0
}
