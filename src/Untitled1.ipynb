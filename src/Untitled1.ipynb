{
 "cells": [
  {
   "cell_type": "code",
   "execution_count": 1,
   "metadata": {
    "collapsed": false
   },
   "outputs": [
    {
     "name": "stderr",
     "output_type": "stream",
     "text": [
      "\n",
      "WARNING: deprecated syntax \"{}\" at /home/chris/.julia/v0.4/Pandas/src/Pandas.jl:22.\n",
      "Use \"[]\" instead.\n",
      "INFO: Recompiling stale cache file /home/chris/.julia/lib/v0.4/PyCall.ji for module PyCall.\n",
      "INFO: Recompiling stale cache file /home/chris/.julia/lib/v0.4/PyPlot.ji for module PyPlot.\n"
     ]
    },
    {
     "ename": "LoadError",
     "evalue": "LoadError: LoadError: InitError: Failed to pyimport(\"matplotlib\"): PyPlot will not work until you have a functioning matplotlib module.\n\nFor automated Matplotlib installation, try configuring PyCall to use the Conda Python distribution within Julia.  Relaunch Julia and run:\n      ENV[\"PYTHON\"]=\"\"\n      Pkg.build(\"PyCall\")\n      using PyPlot\n\npyimport exception was: PyError (:PyImport_ImportModule) <type 'exceptions.ImportError'>\nImportError('No module named matplotlib',)\n\nduring initialization of module PyPlot\nwhile loading /home/chris/.julia/v0.4/Pandas/src/Pandas.jl, in expression starting on line 4\nwhile loading In[1], in expression starting on line 1",
     "output_type": "error",
     "traceback": [
      "LoadError: LoadError: InitError: Failed to pyimport(\"matplotlib\"): PyPlot will not work until you have a functioning matplotlib module.\n\nFor automated Matplotlib installation, try configuring PyCall to use the Conda Python distribution within Julia.  Relaunch Julia and run:\n      ENV[\"PYTHON\"]=\"\"\n      Pkg.build(\"PyCall\")\n      using PyPlot\n\npyimport exception was: PyError (:PyImport_ImportModule) <type 'exceptions.ImportError'>\nImportError('No module named matplotlib',)\n\nduring initialization of module PyPlot\nwhile loading /home/chris/.julia/v0.4/Pandas/src/Pandas.jl, in expression starting on line 4\nwhile loading In[1], in expression starting on line 1",
      "",
      " in __init__ at /home/chris/.julia/v0.4/PyPlot/src/PyPlot.jl:229",
      " in _require_from_serialized at loading.jl:84",
      " in _require_from_serialized at ./loading.jl:109",
      " in require at ./loading.jl:219",
      " in include at ./boot.jl:261",
      " in include_from_node1 at ./loading.jl:304",
      " in require at ./loading.jl:243"
     ]
    }
   ],
   "source": [
    "using Pandas"
   ]
  },
  {
   "cell_type": "code",
   "execution_count": null,
   "metadata": {
    "collapsed": true
   },
   "outputs": [],
   "source": []
  }
 ],
 "metadata": {
  "kernelspec": {
   "display_name": "Julia 0.4.0",
   "language": "julia",
   "name": "julia-0.4"
  },
  "language_info": {
   "file_extension": ".jl",
   "mimetype": "application/julia",
   "name": "julia",
   "version": "0.4.0"
  }
 },
 "nbformat": 4,
 "nbformat_minor": 0
}
